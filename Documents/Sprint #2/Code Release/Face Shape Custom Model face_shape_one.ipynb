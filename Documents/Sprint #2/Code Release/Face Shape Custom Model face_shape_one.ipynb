{
 "cells": [
  {
   "cell_type": "code",
   "execution_count": 4,
   "metadata": {},
   "outputs": [
    {
     "name": "stdout",
     "output_type": "stream",
     "text": [
      "Found 400 images belonging to 5 classes.\n",
      "Found 50 images belonging to 5 classes.\n",
      "Found 50 images belonging to 5 classes.\n"
     ]
    }
   ],
   "source": [
    "import os\n",
    "from keras.preprocessing.image import ImageDataGenerator\n",
    "\n",
    "base_dir = r'C:\\Users\\kyawh\\Desktop\\Machine Learning\\face_shape_one'\n",
    "train_dir = os.path.join(base_dir, 'train')\n",
    "validation_dir = os.path.join(base_dir, 'validation')\n",
    "test_dir = os.path.join(base_dir, 'test')\n",
    "\n",
    "# Rescale all images by the rescale factor\n",
    "rescale_factor = 1./255\n",
    "# Training data will be augmented to mitigate overfitting\n",
    "train_datagen = ImageDataGenerator(\n",
    "                rescale= rescale_factor,\n",
    "                rotation_range= 40,\n",
    "                width_shift_range= 0.2,\n",
    "                height_shift_range= 0.2,\n",
    "                shear_range= 0.2,\n",
    "                zoom_range= 0.2,\n",
    "                horizontal_flip= True)\n",
    "\n",
    "valid_datagen = ImageDataGenerator(rescale= rescale_factor)\n",
    "test_datagen = ImageDataGenerator(rescale= rescale_factor)\n",
    "\n",
    "train_generator = train_datagen.flow_from_directory(\n",
    "                        train_dir, \n",
    "                        target_size= (150, 150),\n",
    "                        batch_size= 30,\n",
    "                        class_mode= 'categorical')\n",
    "\n",
    "valid_generator = valid_datagen.flow_from_directory(\n",
    "                        validation_dir, \n",
    "                        target_size= (150, 150),\n",
    "                        batch_size= 10,\n",
    "                        class_mode= 'categorical')\n",
    "\n",
    "test_generator = test_datagen.flow_from_directory(\n",
    "                        test_dir, \n",
    "                        target_size= (150, 150),\n",
    "                        batch_size= 10,\n",
    "                        class_mode= 'categorical')"
   ]
  },
  {
   "cell_type": "code",
   "execution_count": 5,
   "metadata": {},
   "outputs": [],
   "source": [
    "'''\n",
    "Instantiating a model for face shape classification\n",
    "'''\n",
    "from keras import layers\n",
    "from keras import models\n",
    "\n",
    "model = models.Sequential()\n",
    "\n",
    "model.add(layers.Conv2D(64, (3,3), activation= 'relu', input_shape= (150,150, 3)))\n",
    "model.add(layers.MaxPooling2D((2,2)))\n",
    "\n",
    "model.add(layers.Conv2D(128, (3,3), activation= 'relu'))\n",
    "model.add(layers.MaxPooling2D((2,2)))\n",
    "\n",
    "model.add(layers.Conv2D(512, (3,3), activation= 'relu'))\n",
    "model.add(layers.MaxPooling2D((2,2)))\n",
    "\n",
    "model.add(layers.Conv2D(512, (3,3), activation= 'relu'))\n",
    "model.add(layers.MaxPooling2D((2,2)))\n",
    "\n",
    "model.add(layers.Flatten())\n",
    "model.add(layers.Dropout(0.5))\n",
    "model.add(layers.Dense(512, activation= 'relu'))\n",
    "model.add(layers.Dense(5, activation= 'softmax'))"
   ]
  },
  {
   "cell_type": "code",
   "execution_count": 6,
   "metadata": {
    "scrolled": true
   },
   "outputs": [
    {
     "name": "stdout",
     "output_type": "stream",
     "text": [
      "Model: \"sequential_2\"\n",
      "_________________________________________________________________\n",
      "Layer (type)                 Output Shape              Param #   \n",
      "=================================================================\n",
      "conv2d_5 (Conv2D)            (None, 148, 148, 64)      1792      \n",
      "_________________________________________________________________\n",
      "max_pooling2d_5 (MaxPooling2 (None, 74, 74, 64)        0         \n",
      "_________________________________________________________________\n",
      "conv2d_6 (Conv2D)            (None, 72, 72, 128)       73856     \n",
      "_________________________________________________________________\n",
      "max_pooling2d_6 (MaxPooling2 (None, 36, 36, 128)       0         \n",
      "_________________________________________________________________\n",
      "conv2d_7 (Conv2D)            (None, 34, 34, 512)       590336    \n",
      "_________________________________________________________________\n",
      "max_pooling2d_7 (MaxPooling2 (None, 17, 17, 512)       0         \n",
      "_________________________________________________________________\n",
      "conv2d_8 (Conv2D)            (None, 15, 15, 512)       2359808   \n",
      "_________________________________________________________________\n",
      "max_pooling2d_8 (MaxPooling2 (None, 7, 7, 512)         0         \n",
      "_________________________________________________________________\n",
      "flatten_2 (Flatten)          (None, 25088)             0         \n",
      "_________________________________________________________________\n",
      "dropout_2 (Dropout)          (None, 25088)             0         \n",
      "_________________________________________________________________\n",
      "dense_3 (Dense)              (None, 512)               12845568  \n",
      "_________________________________________________________________\n",
      "dense_4 (Dense)              (None, 5)                 2565      \n",
      "=================================================================\n",
      "Total params: 15,873,925\n",
      "Trainable params: 15,873,925\n",
      "Non-trainable params: 0\n",
      "_________________________________________________________________\n"
     ]
    }
   ],
   "source": [
    "model.summary()"
   ]
  },
  {
   "cell_type": "code",
   "execution_count": 7,
   "metadata": {},
   "outputs": [],
   "source": [
    "'''\n",
    "Compiling the model for training\n",
    "'''\n",
    "from keras import optimizers\n",
    "model.compile(loss= 'categorical_crossentropy',\n",
    "              optimizer= optimizers.RMSprop(lr=1e-4),\n",
    "              metrics= ['acc'])"
   ]
  },
  {
   "cell_type": "code",
   "execution_count": 8,
   "metadata": {},
   "outputs": [
    {
     "name": "stdout",
     "output_type": "stream",
     "text": [
      "Epoch 1/60\n",
      "13/13 [==============================] - 38s 3s/step - loss: 1.6274 - acc: 0.1757 - val_loss: 1.5937 - val_acc: 0.1800\n",
      "Epoch 2/60\n",
      "13/13 [==============================] - 38s 3s/step - loss: 1.6155 - acc: 0.1744 - val_loss: 1.5896 - val_acc: 0.2400\n",
      "Epoch 3/60\n",
      "13/13 [==============================] - 35s 3s/step - loss: 1.6076 - acc: 0.1973 - val_loss: 1.5990 - val_acc: 0.2400\n",
      "Epoch 4/60\n",
      "13/13 [==============================] - 35s 3s/step - loss: 1.6068 - acc: 0.2057 - val_loss: 1.5746 - val_acc: 0.3200\n",
      "Epoch 5/60\n",
      "13/13 [==============================] - 39s 3s/step - loss: 1.5878 - acc: 0.2595 - val_loss: 1.6197 - val_acc: 0.3000\n",
      "Epoch 6/60\n",
      "13/13 [==============================] - 38s 3s/step - loss: 1.5743 - acc: 0.2730 - val_loss: 1.5077 - val_acc: 0.3200\n",
      "Epoch 7/60\n",
      "13/13 [==============================] - 38s 3s/step - loss: 1.5466 - acc: 0.2564 - val_loss: 1.4903 - val_acc: 0.4000\n",
      "Epoch 8/60\n",
      "13/13 [==============================] - 35s 3s/step - loss: 1.5312 - acc: 0.2973 - val_loss: 1.4117 - val_acc: 0.3400\n",
      "Epoch 9/60\n",
      "13/13 [==============================] - 36s 3s/step - loss: 1.5638 - acc: 0.3000 - val_loss: 1.4878 - val_acc: 0.3200\n",
      "Epoch 10/60\n",
      "13/13 [==============================] - 36s 3s/step - loss: 1.5596 - acc: 0.2892 - val_loss: 1.5989 - val_acc: 0.3200\n",
      "Epoch 11/60\n",
      "13/13 [==============================] - 37s 3s/step - loss: 1.5296 - acc: 0.3135 - val_loss: 1.5859 - val_acc: 0.3000\n",
      "Epoch 12/60\n",
      "13/13 [==============================] - 36s 3s/step - loss: 1.5030 - acc: 0.3189 - val_loss: 1.6157 - val_acc: 0.3200\n",
      "Epoch 13/60\n",
      "13/13 [==============================] - 37s 3s/step - loss: 1.5419 - acc: 0.3108 - val_loss: 1.6516 - val_acc: 0.3200\n",
      "Epoch 14/60\n",
      "13/13 [==============================] - 38s 3s/step - loss: 1.4834 - acc: 0.3351 - val_loss: 1.4665 - val_acc: 0.3000\n",
      "Epoch 15/60\n",
      "13/13 [==============================] - 35s 3s/step - loss: 1.5187 - acc: 0.3135 - val_loss: 1.4950 - val_acc: 0.2400\n",
      "Epoch 16/60\n",
      "13/13 [==============================] - 37s 3s/step - loss: 1.4958 - acc: 0.3054 - val_loss: 1.7082 - val_acc: 0.2600\n",
      "Epoch 17/60\n",
      "13/13 [==============================] - 38s 3s/step - loss: 1.4930 - acc: 0.2865 - val_loss: 1.6940 - val_acc: 0.3400\n",
      "Epoch 18/60\n",
      "13/13 [==============================] - 36s 3s/step - loss: 1.5101 - acc: 0.3108 - val_loss: 1.6700 - val_acc: 0.2200\n",
      "Epoch 19/60\n",
      "13/13 [==============================] - 35s 3s/step - loss: 1.5140 - acc: 0.3135 - val_loss: 1.5546 - val_acc: 0.1400\n",
      "Epoch 20/60\n",
      "13/13 [==============================] - 36s 3s/step - loss: 1.4765 - acc: 0.3378 - val_loss: 1.7612 - val_acc: 0.2800\n",
      "Epoch 21/60\n",
      "13/13 [==============================] - 38s 3s/step - loss: 1.4786 - acc: 0.3622 - val_loss: 1.7429 - val_acc: 0.3200\n",
      "Epoch 22/60\n",
      "13/13 [==============================] - 36s 3s/step - loss: 1.4741 - acc: 0.3297 - val_loss: 1.4065 - val_acc: 0.3200\n",
      "Epoch 23/60\n",
      "13/13 [==============================] - 40s 3s/step - loss: 1.4948 - acc: 0.3564 - val_loss: 1.8782 - val_acc: 0.1600\n",
      "Epoch 24/60\n",
      "13/13 [==============================] - 38s 3s/step - loss: 1.4642 - acc: 0.3622 - val_loss: 1.5663 - val_acc: 0.2400\n",
      "Epoch 25/60\n",
      "13/13 [==============================] - 36s 3s/step - loss: 1.4732 - acc: 0.3135 - val_loss: 1.7991 - val_acc: 0.2600\n",
      "Epoch 26/60\n",
      "13/13 [==============================] - 36s 3s/step - loss: 1.4645 - acc: 0.3649 - val_loss: 2.2055 - val_acc: 0.2200\n",
      "Epoch 27/60\n",
      "13/13 [==============================] - 36s 3s/step - loss: 1.5105 - acc: 0.3429 - val_loss: 1.6462 - val_acc: 0.1600\n",
      "Epoch 28/60\n",
      "13/13 [==============================] - 73s 6s/step - loss: 1.4817 - acc: 0.3462 - val_loss: 1.3954 - val_acc: 0.2600\n",
      "Epoch 29/60\n",
      "13/13 [==============================] - 73s 6s/step - loss: 1.4628 - acc: 0.3564 - val_loss: 1.6102 - val_acc: 0.2200\n",
      "Epoch 30/60\n",
      "13/13 [==============================] - 72s 6s/step - loss: 1.4507 - acc: 0.3676 - val_loss: 1.4180 - val_acc: 0.3400\n",
      "Epoch 31/60\n",
      "13/13 [==============================] - 71s 5s/step - loss: 1.4645 - acc: 0.3757 - val_loss: 1.7755 - val_acc: 0.2600\n",
      "Epoch 32/60\n",
      "13/13 [==============================] - 71s 5s/step - loss: 1.4333 - acc: 0.3486 - val_loss: 1.5076 - val_acc: 0.2400\n",
      "Epoch 33/60\n",
      "13/13 [==============================] - 68s 5s/step - loss: 1.4654 - acc: 0.3486 - val_loss: 1.6399 - val_acc: 0.3000\n",
      "Epoch 34/60\n",
      "13/13 [==============================] - 74s 6s/step - loss: 1.4375 - acc: 0.3795 - val_loss: 1.8275 - val_acc: 0.1800\n",
      "Epoch 35/60\n",
      "13/13 [==============================] - 68s 5s/step - loss: 1.4396 - acc: 0.3914 - val_loss: 1.8689 - val_acc: 0.3000\n",
      "Epoch 36/60\n",
      "13/13 [==============================] - 73s 6s/step - loss: 1.4575 - acc: 0.3718 - val_loss: 1.8518 - val_acc: 0.1800\n",
      "Epoch 37/60\n",
      "13/13 [==============================] - 69s 5s/step - loss: 1.4439 - acc: 0.3595 - val_loss: 1.6858 - val_acc: 0.2600\n",
      "Epoch 38/60\n",
      "13/13 [==============================] - 70s 5s/step - loss: 1.4370 - acc: 0.3892 - val_loss: 1.2566 - val_acc: 0.2400\n",
      "Epoch 39/60\n",
      "13/13 [==============================] - 66s 5s/step - loss: 1.4300 - acc: 0.3857 - val_loss: 1.7749 - val_acc: 0.2600\n",
      "Epoch 40/60\n",
      "13/13 [==============================] - 72s 6s/step - loss: 1.4187 - acc: 0.3846 - val_loss: 1.4139 - val_acc: 0.2600\n",
      "Epoch 41/60\n",
      "13/13 [==============================] - 69s 5s/step - loss: 1.4240 - acc: 0.3703 - val_loss: 1.8112 - val_acc: 0.2800\n",
      "Epoch 42/60\n",
      "13/13 [==============================] - 69s 5s/step - loss: 1.4571 - acc: 0.3676 - val_loss: 1.5641 - val_acc: 0.2200\n",
      "Epoch 43/60\n",
      "13/13 [==============================] - 69s 5s/step - loss: 1.4218 - acc: 0.3730 - val_loss: 1.9114 - val_acc: 0.1800\n",
      "Epoch 44/60\n",
      "13/13 [==============================] - 69s 5s/step - loss: 1.3759 - acc: 0.4216 - val_loss: 1.6481 - val_acc: 0.2800\n",
      "Epoch 45/60\n",
      "13/13 [==============================] - 69s 5s/step - loss: 1.4427 - acc: 0.3622 - val_loss: 1.5098 - val_acc: 0.2400\n",
      "Epoch 46/60\n",
      "13/13 [==============================] - 69s 5s/step - loss: 1.3683 - acc: 0.4216 - val_loss: 1.3086 - val_acc: 0.1600\n",
      "Epoch 47/60\n",
      "13/13 [==============================] - 72s 6s/step - loss: 1.3529 - acc: 0.4154 - val_loss: 2.2005 - val_acc: 0.1600\n",
      "Epoch 48/60\n",
      "13/13 [==============================] - 69s 5s/step - loss: 1.4253 - acc: 0.3865 - val_loss: 1.3429 - val_acc: 0.2400\n",
      "Epoch 49/60\n",
      "13/13 [==============================] - 69s 5s/step - loss: 1.3286 - acc: 0.4351 - val_loss: 2.1177 - val_acc: 0.1800\n",
      "Epoch 50/60\n",
      "13/13 [==============================] - 69s 5s/step - loss: 1.3943 - acc: 0.4216 - val_loss: 1.5622 - val_acc: 0.2800\n",
      "Epoch 51/60\n",
      "13/13 [==============================] - 70s 5s/step - loss: 1.3665 - acc: 0.4027 - val_loss: 1.2280 - val_acc: 0.3000\n",
      "Epoch 52/60\n",
      "13/13 [==============================] - 69s 5s/step - loss: 1.3575 - acc: 0.4081 - val_loss: 1.8816 - val_acc: 0.3800\n",
      "Epoch 53/60\n",
      "13/13 [==============================] - 69s 5s/step - loss: 1.4249 - acc: 0.3865 - val_loss: 1.5013 - val_acc: 0.2600\n",
      "Epoch 54/60\n",
      "13/13 [==============================] - 69s 5s/step - loss: 1.3236 - acc: 0.4838 - val_loss: 2.3983 - val_acc: 0.2000\n",
      "Epoch 55/60\n",
      "13/13 [==============================] - 69s 5s/step - loss: 1.3675 - acc: 0.4270 - val_loss: 1.6005 - val_acc: 0.3000\n",
      "Epoch 56/60\n",
      "13/13 [==============================] - 69s 5s/step - loss: 1.3932 - acc: 0.4351 - val_loss: 1.7725 - val_acc: 0.2800\n",
      "Epoch 57/60\n",
      "13/13 [==============================] - 69s 5s/step - loss: 1.3426 - acc: 0.4189 - val_loss: 1.6891 - val_acc: 0.2400\n",
      "Epoch 58/60\n",
      "13/13 [==============================] - 69s 5s/step - loss: 1.4101 - acc: 0.3838 - val_loss: 1.8260 - val_acc: 0.2600\n",
      "Epoch 59/60\n",
      "13/13 [==============================] - 69s 5s/step - loss: 1.3561 - acc: 0.4189 - val_loss: 1.8030 - val_acc: 0.2200\n",
      "Epoch 60/60\n",
      "13/13 [==============================] - 69s 5s/step - loss: 1.3345 - acc: 0.4432 - val_loss: 1.9093 - val_acc: 0.2200\n"
     ]
    }
   ],
   "source": [
    "'''\n",
    "Fitting the model\n",
    "'''\n",
    "STEP_SIZE_TRAIN= train_generator.n//train_generator.batch_size\n",
    "STEP_SIZE_VALID= valid_generator.n//valid_generator.batch_size\n",
    "\n",
    "\n",
    "history = model.fit_generator(\n",
    "            train_generator, \n",
    "            steps_per_epoch= STEP_SIZE_TRAIN,\n",
    "            epochs= 60, \n",
    "            validation_data= valid_generator,\n",
    "            validation_steps = STEP_SIZE_VALID)\n",
    "    "
   ]
  },
  {
   "cell_type": "code",
   "execution_count": 9,
   "metadata": {},
   "outputs": [],
   "source": [
    "# Save the model\n",
    "model.save('face_shape_one_custom_1.h5')"
   ]
  },
  {
   "cell_type": "code",
   "execution_count": 10,
   "metadata": {
    "scrolled": true
   },
   "outputs": [
    {
     "data": {
      "image/png": "[encoded data removed]",
      "text/plain": [
       "<Figure size 432x288 with 1 Axes>"
      ]
     },
     "metadata": {
      "needs_background": "light"
     },
     "output_type": "display_data"
    },
    {
     "data": {
      "image/png": "[encoded data removed]",
      "text/plain": [
       "<Figure size 432x288 with 1 Axes>"
      ]
     },
     "metadata": {
      "needs_background": "light"
     },
     "output_type": "display_data"
    }
   ],
   "source": [
    "# Plotting the results\n",
    "import matplotlib.pyplot as plt\n",
    "\n",
    "acc = history.history['acc'] \n",
    "val_acc = history.history['val_acc'] \n",
    "loss = history.history['loss'] \n",
    "val_loss = history.history['val_loss']\n",
    "\n",
    "epochs = range(1, len(acc) + 1)\n",
    "\n",
    "plt.plot(epochs, acc, 'bo', label='Training acc') \n",
    "plt.plot(epochs, val_acc, 'b', label='Validation acc') \n",
    "plt.title('Training and validation accuracy') \n",
    "plt.legend()\n",
    "\n",
    "plt.figure()\n",
    "\n",
    "plt.plot(epochs, loss, 'bo', label='Training loss')\n",
    "plt.plot(epochs, val_loss, 'b', label='Validation loss') \n",
    "plt.title('Training and validation loss') \n",
    "plt.legend()\n",
    "plt.show()\n"
   ]
  },
  {
   "cell_type": "code",
   "execution_count": 11,
   "metadata": {},
   "outputs": [
    {
     "name": "stdout",
     "output_type": "stream",
     "text": [
      "Accuracy on the test dataset:  28.0 %\n"
     ]
    }
   ],
   "source": [
    "# Evaluate the model with the test dataset\n",
    "STEP_SIZE_TEST = test_generator.n//test_generator.batch_size\n",
    "\n",
    "test_loss, test_acc = model.evaluate_generator(test_generator, steps= STEP_SIZE_TEST )\n",
    "print('Accuracy on the test dataset: ', round(test_acc*100), '%')"
   ]
  },
  {
   "cell_type": "code",
   "execution_count": null,
   "metadata": {},
   "outputs": [],
   "source": []
  }
 ],
 "metadata": {
  "kernelspec": {
   "display_name": "Python 3",
   "language": "python",
   "name": "python3"
  },
  "language_info": {
   "codemirror_mode": {
    "name": "ipython",
    "version": 3
   },
   "file_extension": ".py",
   "mimetype": "text/x-python",
   "name": "python",
   "nbconvert_exporter": "python",
   "pygments_lexer": "ipython3",
   "version": "3.7.6"
  }
 },
 "nbformat": 4,
 "nbformat_minor": 4
}
