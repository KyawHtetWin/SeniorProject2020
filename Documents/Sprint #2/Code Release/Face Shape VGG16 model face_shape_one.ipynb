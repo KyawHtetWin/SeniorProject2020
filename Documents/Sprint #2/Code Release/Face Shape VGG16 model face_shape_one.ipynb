{
 "cells": [
  {
   "cell_type": "code",
   "execution_count": 1,
   "metadata": {},
   "outputs": [
    {
     "name": "stderr",
     "output_type": "stream",
     "text": [
      "Using TensorFlow backend.\n"
     ]
    }
   ],
   "source": [
    "from keras.applications import VGG16\n",
    "\n",
    "conv_base = VGG16(weights= 'imagenet',\n",
    "                 include_top= False,\n",
    "                 input_shape=(150,150, 3))"
   ]
  },
  {
   "cell_type": "code",
   "execution_count": 2,
   "metadata": {
    "scrolled": false
   },
   "outputs": [
    {
     "name": "stdout",
     "output_type": "stream",
     "text": [
      "Model: \"vgg16\"\n",
      "_________________________________________________________________\n",
      "Layer (type)                 Output Shape              Param #   \n",
      "=================================================================\n",
      "input_1 (InputLayer)         (None, 150, 150, 3)       0         \n",
      "_________________________________________________________________\n",
      "block1_conv1 (Conv2D)        (None, 150, 150, 64)      1792      \n",
      "_________________________________________________________________\n",
      "block1_conv2 (Conv2D)        (None, 150, 150, 64)      36928     \n",
      "_________________________________________________________________\n",
      "block1_pool (MaxPooling2D)   (None, 75, 75, 64)        0         \n",
      "_________________________________________________________________\n",
      "block2_conv1 (Conv2D)        (None, 75, 75, 128)       73856     \n",
      "_________________________________________________________________\n",
      "block2_conv2 (Conv2D)        (None, 75, 75, 128)       147584    \n",
      "_________________________________________________________________\n",
      "block2_pool (MaxPooling2D)   (None, 37, 37, 128)       0         \n",
      "_________________________________________________________________\n",
      "block3_conv1 (Conv2D)        (None, 37, 37, 256)       295168    \n",
      "_________________________________________________________________\n",
      "block3_conv2 (Conv2D)        (None, 37, 37, 256)       590080    \n",
      "_________________________________________________________________\n",
      "block3_conv3 (Conv2D)        (None, 37, 37, 256)       590080    \n",
      "_________________________________________________________________\n",
      "block3_pool (MaxPooling2D)   (None, 18, 18, 256)       0         \n",
      "_________________________________________________________________\n",
      "block4_conv1 (Conv2D)        (None, 18, 18, 512)       1180160   \n",
      "_________________________________________________________________\n",
      "block4_conv2 (Conv2D)        (None, 18, 18, 512)       2359808   \n",
      "_________________________________________________________________\n",
      "block4_conv3 (Conv2D)        (None, 18, 18, 512)       2359808   \n",
      "_________________________________________________________________\n",
      "block4_pool (MaxPooling2D)   (None, 9, 9, 512)         0         \n",
      "_________________________________________________________________\n",
      "block5_conv1 (Conv2D)        (None, 9, 9, 512)         2359808   \n",
      "_________________________________________________________________\n",
      "block5_conv2 (Conv2D)        (None, 9, 9, 512)         2359808   \n",
      "_________________________________________________________________\n",
      "block5_conv3 (Conv2D)        (None, 9, 9, 512)         2359808   \n",
      "_________________________________________________________________\n",
      "block5_pool (MaxPooling2D)   (None, 4, 4, 512)         0         \n",
      "=================================================================\n",
      "Total params: 14,714,688\n",
      "Trainable params: 14,714,688\n",
      "Non-trainable params: 0\n",
      "_________________________________________________________________\n"
     ]
    }
   ],
   "source": [
    "# Display the architecture of VGG16 convolutional base\n",
    "conv_base.summary()"
   ]
  },
  {
   "cell_type": "code",
   "execution_count": 3,
   "metadata": {
    "scrolled": true
   },
   "outputs": [
    {
     "name": "stdout",
     "output_type": "stream",
     "text": [
      "Found 400 images belonging to 5 classes.\n",
      "Found 50 images belonging to 5 classes.\n",
      "Found 50 images belonging to 5 classes.\n"
     ]
    }
   ],
   "source": [
    "'''\n",
    "Extracting features from the convolutional base\n",
    "'''\n",
    "import os\n",
    "import numpy as np\n",
    "from keras.preprocessing.image import ImageDataGenerator\n",
    "\n",
    "base_dir = r'C:\\Users\\kyawh\\Desktop\\Machine Learning\\face_shape_one'\n",
    "train_dir = os.path.join(base_dir, 'train')\n",
    "validation_dir = os.path.join(base_dir, 'validation')\n",
    "test_dir = os.path.join(base_dir, 'test')\n",
    "\n",
    "train_sample_size = 400\n",
    "train_batch_size = 20\n",
    "\n",
    "valid_sample_size = 50\n",
    "valid_batch_size = 10\n",
    "\n",
    "test_sample_size = 50\n",
    "test_batch_size = 10\n",
    "\n",
    "datagen = ImageDataGenerator(rescale= 1./255)\n",
    "\n",
    "def extract_features(directory, sample_count, batch_size):\n",
    "    features = np.zeros(shape=(sample_count, 4, 4, 512))\n",
    "    labels = np.zeros(shape=(sample_count, 5))\n",
    "    \n",
    "    generator = datagen.flow_from_directory(\n",
    "                        directory,\n",
    "                        target_size= (150, 150),\n",
    "                        batch_size= batch_size,\n",
    "                        class_mode= 'categorical')\n",
    "    \n",
    "    i=0\n",
    "    \n",
    "    for inputs_batch, labels_batch in generator:\n",
    "        features_batch = conv_base.predict(inputs_batch)\n",
    "        features[i*batch_size: (i+1)*batch_size] = features_batch\n",
    "        labels[i*batch_size: (i+1)*batch_size] = labels_batch\n",
    "        \n",
    "        i += 1\n",
    "        if i*batch_size >= sample_count:\n",
    "            break\n",
    "            \n",
    "    return features, labels\n",
    "\n",
    "# train_dir consists of 80 images per face shape class(5 face shape)\n",
    "train_features, train_labels = extract_features(train_dir, train_sample_size, train_batch_size)\n",
    "\n",
    "# validation_dir consists of 10 images per face shape class(5 face shape)\n",
    "validation_features, validation_labels = extract_features(validation_dir, valid_sample_size, valid_batch_size)\n",
    "\n",
    "# test_dir consists of 10 images per face shape class(5 face shape)\n",
    "test_features, test_labels = extract_features(test_dir, test_sample_size, test_batch_size)"
   ]
  },
  {
   "cell_type": "code",
   "execution_count": 4,
   "metadata": {},
   "outputs": [],
   "source": [
    "'''\n",
    "Reshape the extracted features of shape(samples, 4, 4, 512) into (samples,8192)\n",
    "before passing to the classifer\n",
    "'''\n",
    "train_features = np.reshape(train_features,(train_sample_size, 4*4*512))\n",
    "validation_features = np.reshape(validation_features,(valid_sample_size, 4*4*512))\n",
    "test_features = np.reshape(test_features, (test_sample_size, 4*4*512))"
   ]
  },
  {
   "cell_type": "code",
   "execution_count": 5,
   "metadata": {},
   "outputs": [
    {
     "name": "stdout",
     "output_type": "stream",
     "text": [
      "Model: \"sequential_1\"\n",
      "_________________________________________________________________\n",
      "Layer (type)                 Output Shape              Param #   \n",
      "=================================================================\n",
      "dense_1 (Dense)              (None, 256)               2097408   \n",
      "_________________________________________________________________\n",
      "dropout_1 (Dropout)          (None, 256)               0         \n",
      "_________________________________________________________________\n",
      "dense_2 (Dense)              (None, 5)                 1285      \n",
      "=================================================================\n",
      "Total params: 2,098,693\n",
      "Trainable params: 2,098,693\n",
      "Non-trainable params: 0\n",
      "_________________________________________________________________\n"
     ]
    }
   ],
   "source": [
    "from keras import models\n",
    "from keras import layers\n",
    "from keras import optimizers\n",
    "\n",
    "model = models.Sequential()\n",
    "model.add(layers.Dense(256, activation= 'relu', input_dim= 8192))\n",
    "model.add(layers.Dropout(0.5))\n",
    "model.add(layers.Dense(5,activation= 'softmax'))\n",
    "\n",
    "model.compile(optimizer='rmsprop', \n",
    "              loss='categorical_crossentropy', \n",
    "              metrics=['acc'])\n",
    "model.summary()"
   ]
  },
  {
   "cell_type": "code",
   "execution_count": 6,
   "metadata": {},
   "outputs": [
    {
     "name": "stdout",
     "output_type": "stream",
     "text": [
      "Train on 400 samples, validate on 50 samples\n",
      "Epoch 1/23\n",
      "400/400 [==============================] - 1s 2ms/step - loss: 2.9595 - acc: 0.2325 - val_loss: 1.4361 - val_acc: 0.3600\n",
      "Epoch 2/23\n",
      "400/400 [==============================] - 0s 1ms/step - loss: 1.5419 - acc: 0.3600 - val_loss: 1.3853 - val_acc: 0.5000\n",
      "Epoch 3/23\n",
      "400/400 [==============================] - 0s 1ms/step - loss: 1.4505 - acc: 0.4075 - val_loss: 1.3265 - val_acc: 0.4600\n",
      "Epoch 4/23\n",
      "400/400 [==============================] - 0s 1ms/step - loss: 1.3867 - acc: 0.4375 - val_loss: 1.4350 - val_acc: 0.3400\n",
      "Epoch 5/23\n",
      "400/400 [==============================] - 0s 1ms/step - loss: 1.2128 - acc: 0.5025 - val_loss: 1.1832 - val_acc: 0.5200\n",
      "Epoch 6/23\n",
      "400/400 [==============================] - 0s 1ms/step - loss: 1.0168 - acc: 0.6000 - val_loss: 1.3011 - val_acc: 0.4800\n",
      "Epoch 7/23\n",
      "400/400 [==============================] - 0s 1ms/step - loss: 1.0662 - acc: 0.5925 - val_loss: 1.5294 - val_acc: 0.4600\n",
      "Epoch 8/23\n",
      "400/400 [==============================] - 0s 1ms/step - loss: 0.7748 - acc: 0.6775 - val_loss: 1.5503 - val_acc: 0.4400\n",
      "Epoch 9/23\n",
      "400/400 [==============================] - 0s 1ms/step - loss: 0.7550 - acc: 0.7100 - val_loss: 1.2091 - val_acc: 0.4200\n",
      "Epoch 10/23\n",
      "400/400 [==============================] - 0s 1ms/step - loss: 0.7395 - acc: 0.7200 - val_loss: 1.2442 - val_acc: 0.4800\n",
      "Epoch 11/23\n",
      "400/400 [==============================] - 0s 1ms/step - loss: 0.5541 - acc: 0.8050 - val_loss: 1.4317 - val_acc: 0.4800\n",
      "Epoch 12/23\n",
      "400/400 [==============================] - 0s 1ms/step - loss: 0.4999 - acc: 0.8125 - val_loss: 1.6746 - val_acc: 0.4200\n",
      "Epoch 13/23\n",
      "400/400 [==============================] - 0s 1ms/step - loss: 0.5144 - acc: 0.7950 - val_loss: 1.6366 - val_acc: 0.4400\n",
      "Epoch 14/23\n",
      "400/400 [==============================] - 0s 1ms/step - loss: 0.4736 - acc: 0.8250 - val_loss: 1.4484 - val_acc: 0.5400\n",
      "Epoch 15/23\n",
      "400/400 [==============================] - 0s 1ms/step - loss: 0.3005 - acc: 0.9100 - val_loss: 1.4135 - val_acc: 0.5200\n",
      "Epoch 16/23\n",
      "400/400 [==============================] - 1s 1ms/step - loss: 0.3669 - acc: 0.8650 - val_loss: 1.3520 - val_acc: 0.5000\n",
      "Epoch 17/23\n",
      "400/400 [==============================] - 0s 1ms/step - loss: 0.2251 - acc: 0.9275 - val_loss: 1.6377 - val_acc: 0.4800\n",
      "Epoch 18/23\n",
      "400/400 [==============================] - 0s 1ms/step - loss: 0.2435 - acc: 0.9150 - val_loss: 1.7706 - val_acc: 0.5000\n",
      "Epoch 19/23\n",
      "400/400 [==============================] - 0s 1ms/step - loss: 0.2184 - acc: 0.9250 - val_loss: 1.5791 - val_acc: 0.5600\n",
      "Epoch 20/23\n",
      "400/400 [==============================] - 0s 1ms/step - loss: 0.2463 - acc: 0.9175 - val_loss: 1.5324 - val_acc: 0.5400\n",
      "Epoch 21/23\n",
      "400/400 [==============================] - 0s 1ms/step - loss: 0.1945 - acc: 0.9375 - val_loss: 1.6145 - val_acc: 0.5600\n",
      "Epoch 22/23\n",
      "400/400 [==============================] - 0s 1ms/step - loss: 0.1433 - acc: 0.9600 - val_loss: 1.5565 - val_acc: 0.5600\n",
      "Epoch 23/23\n",
      "400/400 [==============================] - 0s 1ms/step - loss: 0.1529 - acc: 0.9400 - val_loss: 1.6023 - val_acc: 0.5000\n"
     ]
    }
   ],
   "source": [
    "history = model.fit(train_features, train_labels, epochs= 23,\n",
    "                    batch_size= 20, \n",
    "                    validation_data= (validation_features, validation_labels))"
   ]
  },
  {
   "cell_type": "code",
   "execution_count": 7,
   "metadata": {},
   "outputs": [],
   "source": [
    "# Save the model\n",
    "model.save('face_shape_one_vgg16_1.h5')"
   ]
  },
  {
   "cell_type": "code",
   "execution_count": 8,
   "metadata": {},
   "outputs": [
    {
     "data": {
      "image/png": "[encoded data removed]",
      "text/plain": [
       "<Figure size 432x288 with 1 Axes>"
      ]
     },
     "metadata": {
      "needs_background": "light"
     },
     "output_type": "display_data"
    },
    {
     "data": {
      "image/png": "[encoded data removed]",
      "text/plain": [
       "<Figure size 432x288 with 1 Axes>"
      ]
     },
     "metadata": {
      "needs_background": "light"
     },
     "output_type": "display_data"
    }
   ],
   "source": [
    "# Plotting the results\n",
    "# Plotting the results\n",
    "import matplotlib.pyplot as plt\n",
    "\n",
    "acc = history.history['acc'] \n",
    "val_acc = history.history['val_acc'] \n",
    "loss = history.history['loss'] \n",
    "val_loss = history.history['val_loss']\n",
    "\n",
    "epochs = range(1, len(acc) + 1)\n",
    "\n",
    "plt.plot(epochs, acc, 'bo', label='Training acc') \n",
    "plt.plot(epochs, val_acc, 'b', label='Validation acc') \n",
    "plt.title('Training and validation accuracy') \n",
    "plt.legend()\n",
    "\n",
    "plt.figure()\n",
    "\n",
    "plt.plot(epochs, loss, 'bo', label='Training loss')\n",
    "plt.plot(epochs, val_loss, 'b', label='Validation loss') \n",
    "plt.title('Training and validation loss') \n",
    "plt.legend()\n",
    "\n",
    "plt.show()"
   ]
  },
  {
   "cell_type": "code",
   "execution_count": 9,
   "metadata": {},
   "outputs": [
    {
     "name": "stdout",
     "output_type": "stream",
     "text": [
      "50/50 [==============================] - 0s 441us/step\n",
      "Accuracy on test dataset:  60 %\n"
     ]
    }
   ],
   "source": [
    "# Evaluating the model \n",
    "test_loss, test_acc = model.evaluate(test_features, test_labels)\n",
    "print('Accuracy on test dataset: ', round(test_acc*100), '%' )"
   ]
  },
  {
   "cell_type": "code",
   "execution_count": null,
   "metadata": {},
   "outputs": [],
   "source": []
  }
 ],
 "metadata": {
  "kernelspec": {
   "display_name": "Python 3",
   "language": "python",
   "name": "python3"
  },
  "language_info": {
   "codemirror_mode": {
    "name": "ipython",
    "version": 3
   },
   "file_extension": ".py",
   "mimetype": "text/x-python",
   "name": "python",
   "nbconvert_exporter": "python",
   "pygments_lexer": "ipython3",
   "version": "3.7.6"
  }
 },
 "nbformat": 4,
 "nbformat_minor": 4
}
