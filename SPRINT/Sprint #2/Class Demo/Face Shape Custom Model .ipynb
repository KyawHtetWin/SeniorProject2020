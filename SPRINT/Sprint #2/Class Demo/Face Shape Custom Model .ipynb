{
 "cells": [
  {
   "cell_type": "markdown",
   "metadata": {},
   "source": [
    "# Data preprocessing"
   ]
  },
  {
   "cell_type": "code",
   "execution_count": null,
   "metadata": {},
   "outputs": [],
   "source": [
    "import os\n",
    "from keras.preprocessing.image import ImageDataGenerator\n",
    "\n",
    "''' INSERT THE DIRECTORY WHERE YOU UNZIP THE DATA FILE'''\n",
    "\n",
    "base_dir = r''\n",
    "train_dir = os.path.join(base_dir, 'train')\n",
    "validation_dir = os.path.join(base_dir, 'validation')\n",
    "test_dir = os.path.join(base_dir, 'test')\n",
    "\n",
    "# Rescale all images by the rescale factor\n",
    "rescale_factor = 1./255\n",
    "\n",
    "# Training data will be augmented to mitigate overfitting\n",
    "train_datagen = ImageDataGenerator(\n",
    "                rescale= rescale_factor,\n",
    "                rotation_range= 40,\n",
    "                width_shift_range= 0.2,\n",
    "                height_shift_range= 0.2,\n",
    "                shear_range= 0.2,\n",
    "                zoom_range= 0.2,\n",
    "                horizontal_flip= True)\n",
    "\n",
    "valid_datagen = ImageDataGenerator(rescale= rescale_factor)\n",
    "test_datagen = ImageDataGenerator(rescale= rescale_factor)\n",
    "\n",
    "''' Three generators set up for three different datasets\n",
    "    1. Training dataset\n",
    "    2. Validation dataset\n",
    "    3. Test dataset\n",
    "'''\n",
    "\n",
    "train_generator = train_datagen.flow_from_directory(\n",
    "                        train_dir, \n",
    "                        target_size= (150, 150),\n",
    "                        batch_size= 30,\n",
    "                        class_mode= 'categorical')\n",
    "\n",
    "valid_generator = valid_datagen.flow_from_directory(\n",
    "                        validation_dir, \n",
    "                        target_size= (150, 150),\n",
    "                        batch_size= 10,\n",
    "                        class_mode= 'categorical')\n",
    "\n",
    "test_generator = test_datagen.flow_from_directory(\n",
    "                        test_dir, \n",
    "                        target_size= (150, 150),\n",
    "                        batch_size= 10,\n",
    "                        class_mode= 'categorical')"
   ]
  },
  {
   "cell_type": "markdown",
   "metadata": {},
   "source": [
    "# Instantiating a model for face shape classification "
   ]
  },
  {
   "cell_type": "code",
   "execution_count": null,
   "metadata": {},
   "outputs": [],
   "source": [
    "from keras import layers\n",
    "from keras import models\n",
    "\n",
    "model = models.Sequential()\n",
    "\n",
    "model.add(layers.Conv2D(64, (3,3), activation= 'relu', input_shape= (150,150, 3)))\n",
    "model.add(layers.MaxPooling2D((2,2)))\n",
    "\n",
    "model.add(layers.Conv2D(128, (3,3), activation= 'relu'))\n",
    "model.add(layers.MaxPooling2D((2,2)))\n",
    "\n",
    "model.add(layers.Conv2D(512, (3,3), activation= 'relu'))\n",
    "model.add(layers.MaxPooling2D((2,2)))\n",
    "\n",
    "model.add(layers.Conv2D(512, (3,3), activation= 'relu'))\n",
    "model.add(layers.MaxPooling2D((2,2)))\n",
    "\n",
    "model.add(layers.Flatten())\n",
    "model.add(layers.Dropout(0.5))\n",
    "model.add(layers.Dense(512, activation= 'relu'))\n",
    "model.add(layers.Dense(5, activation= 'softmax'))"
   ]
  },
  {
   "cell_type": "code",
   "execution_count": null,
   "metadata": {
    "scrolled": true
   },
   "outputs": [],
   "source": [
    "model.summary()"
   ]
  },
  {
   "cell_type": "markdown",
   "metadata": {},
   "source": [
    "# Compiling & Fitting the model"
   ]
  },
  {
   "cell_type": "code",
   "execution_count": null,
   "metadata": {},
   "outputs": [],
   "source": [
    "\n",
    "from keras import optimizers\n",
    "model.compile(loss= 'categorical_crossentropy',\n",
    "              optimizer= optimizers.RMSprop(lr=1e-4),\n",
    "              metrics= ['acc'])"
   ]
  },
  {
   "cell_type": "code",
   "execution_count": null,
   "metadata": {},
   "outputs": [],
   "source": [
    "\n",
    "STEP_SIZE_TRAIN= train_generator.n//train_generator.batch_size\n",
    "STEP_SIZE_VALID= valid_generator.n//valid_generator.batch_size\n",
    "\n",
    "\n",
    "history = model.fit_generator(\n",
    "            train_generator, \n",
    "            steps_per_epoch= STEP_SIZE_TRAIN,\n",
    "            epochs= 60, \n",
    "            validation_data= valid_generator,\n",
    "            validation_steps = STEP_SIZE_VALID)\n",
    "    "
   ]
  },
  {
   "cell_type": "markdown",
   "metadata": {},
   "source": [
    "# Plotting the results"
   ]
  },
  {
   "cell_type": "code",
   "execution_count": null,
   "metadata": {
    "scrolled": true
   },
   "outputs": [],
   "source": [
    "import matplotlib.pyplot as plt\n",
    "\n",
    "acc = history.history['acc'] \n",
    "val_acc = history.history['val_acc'] \n",
    "loss = history.history['loss'] \n",
    "val_loss = history.history['val_loss']\n",
    "\n",
    "epochs = range(1, len(acc) + 1)\n",
    "\n",
    "plt.plot(epochs, acc, 'bo', label='Training acc') \n",
    "plt.plot(epochs, val_acc, 'b', label='Validation acc') \n",
    "plt.title('Training and validation accuracy') \n",
    "plt.legend()\n",
    "\n",
    "plt.figure()\n",
    "\n",
    "plt.plot(epochs, loss, 'bo', label='Training loss')\n",
    "plt.plot(epochs, val_loss, 'b', label='Validation loss') \n",
    "plt.title('Training and validation loss') \n",
    "plt.legend()\n",
    "plt.show()\n"
   ]
  },
  {
   "cell_type": "markdown",
   "metadata": {},
   "source": [
    "# Evaluate the model with the test dataset"
   ]
  },
  {
   "cell_type": "code",
   "execution_count": null,
   "metadata": {},
   "outputs": [],
   "source": [
    "STEP_SIZE_TEST = test_generator.n//test_generator.batch_size\n",
    "\n",
    "test_loss, test_acc = model.evaluate_generator(test_generator, steps= STEP_SIZE_TEST )\n",
    "print('Accuracy on the test dataset: ', round(test_acc*100), '%')"
   ]
  }
 ],
 "metadata": {
  "kernelspec": {
   "display_name": "Python 3",
   "language": "python",
   "name": "python3"
  },
  "language_info": {
   "codemirror_mode": {
    "name": "ipython",
    "version": 3
   },
   "file_extension": ".py",
   "mimetype": "text/x-python",
   "name": "python",
   "nbconvert_exporter": "python",
   "pygments_lexer": "ipython3",
   "version": "3.7.4"
  }
 },
 "nbformat": 4,
 "nbformat_minor": 4
}
